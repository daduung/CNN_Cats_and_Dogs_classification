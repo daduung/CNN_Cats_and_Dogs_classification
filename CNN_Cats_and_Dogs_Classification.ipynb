{
 "cells": [
  {
   "cell_type": "code",
   "execution_count": 1,
   "id": "63d22e85",
   "metadata": {},
   "outputs": [],
   "source": [
    "import numpy as np\n",
    "import tensorflow as tf        \n",
    "from tensorflow.keras.models import Sequential   \n",
    "from tensorflow.keras.layers import Conv2D, MaxPooling2D\n",
    "from tensorflow.keras.layers import Flatten, Dense \n",
    "from tensorflow.keras.optimizers import Adam          \n",
    "from tensorflow.keras.preprocessing.image import ImageDataGenerator"
   ]
  },
  {
   "cell_type": "code",
   "execution_count": 2,
   "id": "a6a85ae4",
   "metadata": {},
   "outputs": [],
   "source": [
    "# ImageDataGenerator 객체 생성\n",
    "Train_Datagen = ImageDataGenerator(rescale=1/255)\n",
    "Test_Datagen = ImageDataGenerator(rescale=1/255)"
   ]
  },
  {
   "cell_type": "code",
   "execution_count": 10,
   "id": "296cc1b4",
   "metadata": {},
   "outputs": [],
   "source": [
    "train_dir = \"./cats_and_dogs_small/train\" \n",
    "test_dir = \"./cats_and_dogs_small/test\""
   ]
  },
  {
   "cell_type": "code",
   "execution_count": 15,
   "id": "eb8c25f6",
   "metadata": {},
   "outputs": [
    {
     "name": "stdout",
     "output_type": "stream",
     "text": [
      "Found 2000 images belonging to 2 classes.\n",
      "Found 1000 images belonging to 2 classes.\n"
     ]
    }
   ],
   "source": [
    "# ImageDataGenerator 설정\n",
    "train_generator = Train_Datagen.flow_from_directory(\n",
    "    train_dir,    # 학습용 이미지를 가져올 폴더\n",
    "    classes=['cats', 'dogs'], # cats 폴더의 이미지 label을 0으로, \n",
    "                              # dogs 폴더의 이미지는 label을 1로 설정\n",
    "    target_size=(150, 150),   # image를 resize\n",
    "    batch_size =20,           # 한 번에 20개의 이미지만 가져와서 학습\n",
    "    class_mode='binary'       # 이진분류인 경우 설정 (개, 고양이 둘 중에 하나)\n",
    ")\n",
    "\n",
    "test_generator = Test_Datagen.flow_from_directory(\n",
    "    test_dir,    # 학습용 이미지를 가져올 폴더\n",
    "    classes=['cats', 'dogs'], # cats 폴더의 이미지 label을 0으로, \n",
    "                              # dogs 폴더의 이미지는 label을 1로 설정\n",
    "    target_size=(150, 150),   # image를 resize\n",
    "    batch_size =10,           # 한 번에 10개의 이미지만 가져와서 학습\n",
    "    class_mode='binary'       # 이진분류인 경우 설정 (개, 고양이 둘 중에 하나)\n",
    ")"
   ]
  },
  {
   "cell_type": "code",
   "execution_count": 16,
   "id": "d1ff6b0a",
   "metadata": {},
   "outputs": [],
   "source": [
    "# CNN Model 구현\n",
    "model = Sequential()\n",
    "\n",
    "model.add(Conv2D(\n",
    "    filters=32,\n",
    "    kernel_size=(3,3),\n",
    "    strides=(1,1),\n",
    "    activation = 'relu',\n",
    "    input_shape=(150,150,3)))\n",
    "\n",
    "model.add(Conv2D(\n",
    "    filters=64,\n",
    "    kernel_size=(3,3),\n",
    "    strides=(1,1),\n",
    "    activation = 'relu')) \n",
    "\n",
    "model.add(MaxPooling2D(pool_size=(2,2)))\n",
    "\n",
    "model.add(Conv2D(\n",
    "    filters=64,\n",
    "    kernel_size=(3,3),\n",
    "    strides=(1,1),\n",
    "    activation = 'relu'))"
   ]
  },
  {
   "cell_type": "code",
   "execution_count": 17,
   "id": "f25a6143",
   "metadata": {},
   "outputs": [],
   "source": [
    "# FC layer(DNN) 의 input Layer\n",
    "model.add(Flatten())   #전체 4차원에서 2차원으로 바꿔주는 것\n",
    "\n",
    "# hidden layer\n",
    "model.add(Dense(units=256, activation='relu')) # 은닉층 - relu\n",
    "\n",
    "# output layer\n",
    "model.add(Dense(units=1, activation='sigmoid')) # 이진분류 - sigmoid"
   ]
  },
  {
   "cell_type": "code",
   "execution_count": 18,
   "id": "d3b902d8",
   "metadata": {},
   "outputs": [],
   "source": [
    "# model이 어떻게 동작하는지를 지정\n",
    "model.compile(optimizer=Adam(learning_rate=1e-4),\n",
    "             loss='binary_crossentropy',\n",
    "             metrics=['accuracy'])"
   ]
  },
  {
   "cell_type": "code",
   "execution_count": 19,
   "id": "71df5778",
   "metadata": {},
   "outputs": [
    {
     "name": "stdout",
     "output_type": "stream",
     "text": [
      "Epoch 1/30\n",
      "100/100 [==============================] - 186s 2s/step - loss: 0.6916 - accuracy: 0.5635 - val_loss: 0.6505 - val_accuracy: 0.5960\n",
      "Epoch 2/30\n",
      "100/100 [==============================] - 203s 2s/step - loss: 0.5846 - accuracy: 0.6880 - val_loss: 0.6584 - val_accuracy: 0.6280\n",
      "Epoch 3/30\n",
      "100/100 [==============================] - 191s 2s/step - loss: 0.4928 - accuracy: 0.7770 - val_loss: 0.6091 - val_accuracy: 0.6880\n",
      "Epoch 4/30\n",
      "100/100 [==============================] - 189s 2s/step - loss: 0.3706 - accuracy: 0.8500 - val_loss: 0.6467 - val_accuracy: 0.6500\n",
      "Epoch 5/30\n",
      "100/100 [==============================] - 217s 2s/step - loss: 0.2533 - accuracy: 0.9130 - val_loss: 0.6797 - val_accuracy: 0.6800\n",
      "Epoch 6/30\n",
      "100/100 [==============================] - 192s 2s/step - loss: 0.1844 - accuracy: 0.9455 - val_loss: 1.0225 - val_accuracy: 0.5880\n",
      "Epoch 7/30\n",
      "100/100 [==============================] - 191s 2s/step - loss: 0.1279 - accuracy: 0.9655 - val_loss: 0.8343 - val_accuracy: 0.6660\n",
      "Epoch 8/30\n",
      "100/100 [==============================] - 187s 2s/step - loss: 0.0614 - accuracy: 0.9895 - val_loss: 0.9876 - val_accuracy: 0.6580\n",
      "Epoch 9/30\n",
      "100/100 [==============================] - 207s 2s/step - loss: 0.0378 - accuracy: 0.9950 - val_loss: 0.9547 - val_accuracy: 0.6940\n",
      "Epoch 10/30\n",
      "100/100 [==============================] - 200s 2s/step - loss: 0.0185 - accuracy: 1.0000 - val_loss: 1.2212 - val_accuracy: 0.6700\n",
      "Epoch 11/30\n",
      "100/100 [==============================] - 187s 2s/step - loss: 0.0093 - accuracy: 1.0000 - val_loss: 1.1638 - val_accuracy: 0.6860\n",
      "Epoch 12/30\n",
      "100/100 [==============================] - 186s 2s/step - loss: 0.0056 - accuracy: 1.0000 - val_loss: 1.3632 - val_accuracy: 0.7020\n",
      "Epoch 13/30\n",
      "100/100 [==============================] - 181s 2s/step - loss: 0.0040 - accuracy: 1.0000 - val_loss: 1.2612 - val_accuracy: 0.6940\n",
      "Epoch 14/30\n",
      "100/100 [==============================] - 183s 2s/step - loss: 0.0029 - accuracy: 1.0000 - val_loss: 1.3194 - val_accuracy: 0.7080\n",
      "Epoch 15/30\n",
      "100/100 [==============================] - 181s 2s/step - loss: 0.0021 - accuracy: 1.0000 - val_loss: 1.6025 - val_accuracy: 0.6700\n",
      "Epoch 16/30\n",
      "100/100 [==============================] - 181s 2s/step - loss: 0.0017 - accuracy: 1.0000 - val_loss: 1.4580 - val_accuracy: 0.6880\n",
      "Epoch 17/30\n",
      "100/100 [==============================] - 181s 2s/step - loss: 0.0014 - accuracy: 1.0000 - val_loss: 1.6256 - val_accuracy: 0.6760\n",
      "Epoch 18/30\n",
      "100/100 [==============================] - 183s 2s/step - loss: 0.0011 - accuracy: 1.0000 - val_loss: 1.3921 - val_accuracy: 0.7120\n",
      "Epoch 19/30\n",
      "100/100 [==============================] - 186s 2s/step - loss: 9.4799e-04 - accuracy: 1.0000 - val_loss: 1.4865 - val_accuracy: 0.6960\n",
      "Epoch 20/30\n",
      "100/100 [==============================] - 184s 2s/step - loss: 7.8600e-04 - accuracy: 1.0000 - val_loss: 1.6322 - val_accuracy: 0.6760\n",
      "Epoch 21/30\n",
      "100/100 [==============================] - 194s 2s/step - loss: 6.7466e-04 - accuracy: 1.0000 - val_loss: 1.7695 - val_accuracy: 0.6620\n",
      "Epoch 22/30\n",
      "100/100 [==============================] - 188s 2s/step - loss: 5.9112e-04 - accuracy: 1.0000 - val_loss: 1.5750 - val_accuracy: 0.6780\n",
      "Epoch 23/30\n",
      "100/100 [==============================] - 193s 2s/step - loss: 5.0352e-04 - accuracy: 1.0000 - val_loss: 1.8310 - val_accuracy: 0.6600\n",
      "Epoch 24/30\n",
      "100/100 [==============================] - 189s 2s/step - loss: 4.3460e-04 - accuracy: 1.0000 - val_loss: 1.7538 - val_accuracy: 0.6680\n",
      "Epoch 25/30\n",
      "100/100 [==============================] - 185s 2s/step - loss: 3.8754e-04 - accuracy: 1.0000 - val_loss: 1.9570 - val_accuracy: 0.6700\n",
      "Epoch 26/30\n",
      "100/100 [==============================] - 187s 2s/step - loss: 3.4220e-04 - accuracy: 1.0000 - val_loss: 1.8528 - val_accuracy: 0.6760\n",
      "Epoch 27/30\n",
      "100/100 [==============================] - 189s 2s/step - loss: 3.0332e-04 - accuracy: 1.0000 - val_loss: 2.0291 - val_accuracy: 0.6740\n",
      "Epoch 28/30\n",
      "100/100 [==============================] - 189s 2s/step - loss: 2.6600e-04 - accuracy: 1.0000 - val_loss: 1.7297 - val_accuracy: 0.7120\n",
      "Epoch 29/30\n",
      "100/100 [==============================] - 191s 2s/step - loss: 2.4092e-04 - accuracy: 1.0000 - val_loss: 1.9413 - val_accuracy: 0.6600\n",
      "Epoch 30/30\n",
      "100/100 [==============================] - 193s 2s/step - loss: 2.1535e-04 - accuracy: 1.0000 - val_loss: 2.0986 - val_accuracy: 0.6580\n"
     ]
    },
    {
     "data": {
      "text/plain": [
       "<keras.callbacks.History at 0x245805f6e20>"
      ]
     },
     "execution_count": 19,
     "metadata": {},
     "output_type": "execute_result"
    }
   ],
   "source": [
    "# 설정이 다 되었으면 모델을 학습\n",
    "model.fit(train_generator,\n",
    "         steps_per_epoch=100,\n",
    "         epochs=30,\n",
    "         verbose=1,\n",
    "         validation_data=test_generator,\n",
    "          validation_steps=50)"
   ]
  },
  {
   "cell_type": "code",
   "execution_count": 20,
   "id": "cdb27624",
   "metadata": {},
   "outputs": [
    {
     "name": "stdout",
     "output_type": "stream",
     "text": [
      "Model: \"sequential_2\"\n",
      "_________________________________________________________________\n",
      " Layer (type)                Output Shape              Param #   \n",
      "=================================================================\n",
      " conv2d_6 (Conv2D)           (None, 148, 148, 32)      896       \n",
      "                                                                 \n",
      " conv2d_7 (Conv2D)           (None, 146, 146, 64)      18496     \n",
      "                                                                 \n",
      " max_pooling2d_2 (MaxPooling  (None, 73, 73, 64)       0         \n",
      " 2D)                                                             \n",
      "                                                                 \n",
      " conv2d_8 (Conv2D)           (None, 71, 71, 64)        36928     \n",
      "                                                                 \n",
      " flatten_1 (Flatten)         (None, 322624)            0         \n",
      "                                                                 \n",
      " dense_2 (Dense)             (None, 256)               82592000  \n",
      "                                                                 \n",
      " dense_3 (Dense)             (None, 1)                 257       \n",
      "                                                                 \n",
      "=================================================================\n",
      "Total params: 82,648,577\n",
      "Trainable params: 82,648,577\n",
      "Non-trainable params: 0\n",
      "_________________________________________________________________\n"
     ]
    }
   ],
   "source": [
    "model.summary()"
   ]
  },
  {
   "cell_type": "code",
   "execution_count": null,
   "id": "77355a45",
   "metadata": {},
   "outputs": [],
   "source": []
  },
  {
   "cell_type": "code",
   "execution_count": null,
   "id": "7e6c3bd0",
   "metadata": {},
   "outputs": [],
   "source": []
  },
  {
   "cell_type": "code",
   "execution_count": null,
   "id": "10ee0750",
   "metadata": {},
   "outputs": [],
   "source": []
  },
  {
   "cell_type": "code",
   "execution_count": null,
   "id": "e6fcadca",
   "metadata": {},
   "outputs": [],
   "source": []
  },
  {
   "cell_type": "code",
   "execution_count": null,
   "id": "52f61c7e",
   "metadata": {},
   "outputs": [],
   "source": []
  },
  {
   "cell_type": "code",
   "execution_count": null,
   "id": "be3e18ea",
   "metadata": {},
   "outputs": [],
   "source": []
  },
  {
   "cell_type": "code",
   "execution_count": null,
   "id": "668543a8",
   "metadata": {},
   "outputs": [],
   "source": []
  }
 ],
 "metadata": {
  "kernelspec": {
   "display_name": "Python 3 (ipykernel)",
   "language": "python",
   "name": "python3"
  },
  "language_info": {
   "codemirror_mode": {
    "name": "ipython",
    "version": 3
   },
   "file_extension": ".py",
   "mimetype": "text/x-python",
   "name": "python",
   "nbconvert_exporter": "python",
   "pygments_lexer": "ipython3",
   "version": "3.9.12"
  }
 },
 "nbformat": 4,
 "nbformat_minor": 5
}
