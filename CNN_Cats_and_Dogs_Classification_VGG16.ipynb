{
 "cells": [
  {
   "cell_type": "code",
   "execution_count": 1,
   "id": "63d22e85",
   "metadata": {},
   "outputs": [],
   "source": [
    "# 전이학습\n",
    "# 기학습된 Pretrained Network VGG16을 이용\n",
    "\n",
    "from tensorflow.keras.applications import VGG16"
   ]
  },
  {
   "cell_type": "code",
   "execution_count": 2,
   "id": "ed531814",
   "metadata": {},
   "outputs": [
    {
     "name": "stdout",
     "output_type": "stream",
     "text": [
      "Model: \"vgg16\"\n",
      "_________________________________________________________________\n",
      " Layer (type)                Output Shape              Param #   \n",
      "=================================================================\n",
      " input_1 (InputLayer)        [(None, 150, 150, 3)]     0         \n",
      "                                                                 \n",
      " block1_conv1 (Conv2D)       (None, 150, 150, 64)      1792      \n",
      "                                                                 \n",
      " block1_conv2 (Conv2D)       (None, 150, 150, 64)      36928     \n",
      "                                                                 \n",
      " block1_pool (MaxPooling2D)  (None, 75, 75, 64)        0         \n",
      "                                                                 \n",
      " block2_conv1 (Conv2D)       (None, 75, 75, 128)       73856     \n",
      "                                                                 \n",
      " block2_conv2 (Conv2D)       (None, 75, 75, 128)       147584    \n",
      "                                                                 \n",
      " block2_pool (MaxPooling2D)  (None, 37, 37, 128)       0         \n",
      "                                                                 \n",
      " block3_conv1 (Conv2D)       (None, 37, 37, 256)       295168    \n",
      "                                                                 \n",
      " block3_conv2 (Conv2D)       (None, 37, 37, 256)       590080    \n",
      "                                                                 \n",
      " block3_conv3 (Conv2D)       (None, 37, 37, 256)       590080    \n",
      "                                                                 \n",
      " block3_pool (MaxPooling2D)  (None, 18, 18, 256)       0         \n",
      "                                                                 \n",
      " block4_conv1 (Conv2D)       (None, 18, 18, 512)       1180160   \n",
      "                                                                 \n",
      " block4_conv2 (Conv2D)       (None, 18, 18, 512)       2359808   \n",
      "                                                                 \n",
      " block4_conv3 (Conv2D)       (None, 18, 18, 512)       2359808   \n",
      "                                                                 \n",
      " block4_pool (MaxPooling2D)  (None, 9, 9, 512)         0         \n",
      "                                                                 \n",
      " block5_conv1 (Conv2D)       (None, 9, 9, 512)         2359808   \n",
      "                                                                 \n",
      " block5_conv2 (Conv2D)       (None, 9, 9, 512)         2359808   \n",
      "                                                                 \n",
      " block5_conv3 (Conv2D)       (None, 9, 9, 512)         2359808   \n",
      "                                                                 \n",
      " block5_pool (MaxPooling2D)  (None, 4, 4, 512)         0         \n",
      "                                                                 \n",
      "=================================================================\n",
      "Total params: 14,714,688\n",
      "Trainable params: 14,714,688\n",
      "Non-trainable params: 0\n",
      "_________________________________________________________________\n",
      "None\n"
     ]
    }
   ],
   "source": [
    "model_base = VGG16(weights='imagenet',\n",
    "                   include_top=False,\n",
    "                   input_shape=(150, 150, 3)) #150by150에 COLOR니까 3\n",
    "print(model_base.summary())"
   ]
  },
  {
   "cell_type": "code",
   "execution_count": 3,
   "id": "9c350eba",
   "metadata": {},
   "outputs": [],
   "source": [
    "import numpy as np\n",
    "import tensorflow as tf   #tensorflow 기본\n",
    "from tensorflow.keras.models import Sequential   #모델 box 정의\n",
    "from tensorflow.keras.layers import Conv2D, MaxPooling2D\n",
    "from tensorflow.keras.layers import Flatten, Dense   #모델 BOX Input, Output layer 정의\n",
    "from tensorflow.keras.optimizers import Adam    #알고리즘 담당\n",
    "from tensorflow.keras.preprocessing.image import ImageDataGenerator"
   ]
  },
  {
   "cell_type": "code",
   "execution_count": 4,
   "id": "a6a85ae4",
   "metadata": {},
   "outputs": [],
   "source": [
    "# ImageDataGenerator 객체 생성 (rescale로 정규화)\n",
    "Train_Datagen = ImageDataGenerator(rescale=1/255)\n",
    "Test_Datagen = ImageDataGenerator(rescale=1/255)"
   ]
  },
  {
   "cell_type": "code",
   "execution_count": 5,
   "id": "296cc1b4",
   "metadata": {},
   "outputs": [],
   "source": [
    "train_dir = \"./cats_and_dogs_small/train\" \n",
    "test_dir = \"./cats_and_dogs_small/test\""
   ]
  },
  {
   "cell_type": "code",
   "execution_count": 6,
   "id": "eb8c25f6",
   "metadata": {},
   "outputs": [
    {
     "name": "stdout",
     "output_type": "stream",
     "text": [
      "Found 2000 images belonging to 2 classes.\n",
      "Found 1000 images belonging to 2 classes.\n"
     ]
    }
   ],
   "source": [
    "# ImageDataGenerator 설정\n",
    "train_generator = Train_Datagen.flow_from_directory(\n",
    "    train_dir,    # 학습용 이미지를 가져올 폴더\n",
    "    classes=['cats', 'dogs'], # cats 폴더의 이미지 label을 0으로, \n",
    "                              # dogs 폴더의 이미지는 label을 1로 설정\n",
    "    target_size=(150, 150),   # image를 resize\n",
    "    batch_size =20,           # 한 번에 20개의 이미지만 가져와서 학습\n",
    "    class_mode='binary'       # 이진분류인 경우 설정 (개, 고양이 둘 중에 하나)\n",
    ")\n",
    "\n",
    "test_generator = Test_Datagen.flow_from_directory(\n",
    "    test_dir,    # 학습용 이미지를 가져올 폴더\n",
    "    classes=['cats', 'dogs'], # cats 폴더의 이미지 label을 0으로, \n",
    "                              # dogs 폴더의 이미지는 label을 1로 설정\n",
    "    target_size=(150, 150),   # image를 resize\n",
    "    batch_size =10,           # 한 번에 10개의 이미지만 가져와서 학습\n",
    "    class_mode='binary'       # 이진분류인 경우 설정 (개, 고양이 둘 중에 하나)\n",
    ")"
   ]
  },
  {
   "cell_type": "code",
   "execution_count": 7,
   "id": "d1ff6b0a",
   "metadata": {},
   "outputs": [],
   "source": [
    "# CNN Model 구현\n",
    "model = Sequential()\n",
    "model_base = VGG16(weights='imagenet',\n",
    "                   include_top=False,\n",
    "                   input_shape=(150, 150, 3)) #150by150에 칼라니까 3\n",
    "model.add(model_base)"
   ]
  },
  {
   "cell_type": "code",
   "execution_count": 8,
   "id": "f25a6143",
   "metadata": {},
   "outputs": [],
   "source": [
    "# Classification 하는 부문은 구현해야 함.\n",
    "# FC layer(DNN)의 input Layer\n",
    "model.add(Flatten())   #전체 4차원에서 2차원으로 바꿔주는 것\n",
    "# output layer\n",
    "model.add(Dense(units=1, activation='sigmoid')) # 고양이인지 개인지 0또는 1로 판단"
   ]
  },
  {
   "cell_type": "code",
   "execution_count": 9,
   "id": "d3b902d8",
   "metadata": {},
   "outputs": [],
   "source": [
    "# model이 어떻게 동작하는지를 지정\n",
    "model.compile(optimizer=Adam(learning_rate=0.0001),\n",
    "             loss='binary_crossentropy',\n",
    "             metrics=['accuracy'])"
   ]
  },
  {
   "cell_type": "code",
   "execution_count": null,
   "id": "71df5778",
   "metadata": {},
   "outputs": [],
   "source": [
    "# 설정이 다 되었으면 모델을 학습\n",
    "model.fit(train_generator,\n",
    "         steps_per_epoch=100,\n",
    "         epochs=30,\n",
    "         verbose=1,\n",
    "         validation_data=test_generator,\n",
    "          validation_steps=50)"
   ]
  },
  {
   "cell_type": "code",
   "execution_count": 11,
   "id": "cdb27624",
   "metadata": {},
   "outputs": [
    {
     "name": "stdout",
     "output_type": "stream",
     "text": [
      "Model: \"sequential\"\n",
      "_________________________________________________________________\n",
      " Layer (type)                Output Shape              Param #   \n",
      "=================================================================\n",
      " vgg16 (Functional)          (None, 4, 4, 512)         14714688  \n",
      "                                                                 \n",
      " flatten (Flatten)           (None, 8192)              0         \n",
      "                                                                 \n",
      " dense (Dense)               (None, 1)                 8193      \n",
      "                                                                 \n",
      "=================================================================\n",
      "Total params: 14,722,881\n",
      "Trainable params: 14,722,881\n",
      "Non-trainable params: 0\n",
      "_________________________________________________________________\n"
     ]
    }
   ],
   "source": [
    "model.summary()"
   ]
  },
  {
   "cell_type": "code",
   "execution_count": null,
   "id": "77355a45",
   "metadata": {},
   "outputs": [],
   "source": [
    "# predict, 평가해서 학습이 잘 되었는지 안 되었는지 항상 확인해야 함."
   ]
  },
  {
   "cell_type": "code",
   "execution_count": null,
   "id": "7e6c3bd0",
   "metadata": {},
   "outputs": [],
   "source": []
  },
  {
   "cell_type": "code",
   "execution_count": null,
   "id": "10ee0750",
   "metadata": {},
   "outputs": [],
   "source": []
  },
  {
   "cell_type": "code",
   "execution_count": null,
   "id": "e6fcadca",
   "metadata": {},
   "outputs": [],
   "source": []
  },
  {
   "cell_type": "code",
   "execution_count": null,
   "id": "52f61c7e",
   "metadata": {},
   "outputs": [],
   "source": []
  },
  {
   "cell_type": "code",
   "execution_count": null,
   "id": "be3e18ea",
   "metadata": {},
   "outputs": [],
   "source": []
  },
  {
   "cell_type": "code",
   "execution_count": null,
   "id": "668543a8",
   "metadata": {},
   "outputs": [],
   "source": []
  }
 ],
 "metadata": {
  "kernelspec": {
   "display_name": "Python 3 (ipykernel)",
   "language": "python",
   "name": "python3"
  },
  "language_info": {
   "codemirror_mode": {
    "name": "ipython",
    "version": 3
   },
   "file_extension": ".py",
   "mimetype": "text/x-python",
   "name": "python",
   "nbconvert_exporter": "python",
   "pygments_lexer": "ipython3",
   "version": "3.9.12"
  }
 },
 "nbformat": 4,
 "nbformat_minor": 5
}
